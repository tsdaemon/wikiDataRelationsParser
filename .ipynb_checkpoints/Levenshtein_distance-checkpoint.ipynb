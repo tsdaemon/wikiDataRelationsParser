{
 "cells": [
  {
   "cell_type": "code",
   "execution_count": 2,
   "metadata": {
    "collapsed": true
   },
   "outputs": [],
   "source": [
    "import pandas as pd\n",
    "from pymongo import MongoClient\n",
    "\n",
    "\n",
    "def _connect_mongo(host, port, username, password, db):\n",
    "    \"\"\" A util for making a connection to mongo \"\"\"\n",
    "\n",
    "    if username and password:\n",
    "        mongo_uri = 'mongodb://%s:%s@%s:%s/%s' % (username, password, host, port, db)\n",
    "        conn = MongoClient(mongo_uri)\n",
    "    else:\n",
    "        conn = MongoClient(host, port)\n",
    "\n",
    "\n",
    "    return conn[db]\n",
    "\n",
    "\n",
    "def read_mongo(db, collection, query={}, host='localhost', port=27017, username=None, password=None, no_id=True):\n",
    "    \"\"\" Read from Mongo and Store into DataFrame \"\"\"\n",
    "\n",
    "    # Connect to MongoDB\n",
    "    db = _connect_mongo(host=host, port=port, username=username, password=password, db=db)\n",
    "\n",
    "    # Make a query to the specific DB and Collection\n",
    "    cursor = db[collection].find(query)\n",
    "\n",
    "    # Expand the cursor and construct the DataFrame\n",
    "    df =  pd.DataFrame(list(cursor))\n",
    "\n",
    "    # Delete the _id\n",
    "    if no_id:\n",
    "        del df['_id']\n",
    "\n",
    "    return df"
   ]
  },
  {
   "cell_type": "code",
   "execution_count": null,
   "metadata": {
    "collapsed": true
   },
   "outputs": [],
   "source": [
    "triplets = read_mongo(\"wikidata\", \"triplet_train\")"
   ]
  },
  {
   "cell_type": "code",
   "execution_count": null,
   "metadata": {
    "collapsed": false
   },
   "outputs": [],
   "source": [
    "triplets = triplets.head(50000)"
   ]
  },
  {
   "cell_type": "code",
   "execution_count": 13,
   "metadata": {
    "collapsed": false
   },
   "outputs": [
    {
     "data": {
      "text/plain": [
       "0    0\n",
       "1    0\n",
       "2    1\n",
       "3    1\n",
       "4    0\n",
       "dtype: int64"
      ]
     },
     "execution_count": 13,
     "metadata": {},
     "output_type": "execute_result"
    }
   ],
   "source": [
    "import distance\n",
    "dist = triplets.apply(lambda row: distance.levenshtein(row['Object'], row['ObjectAnchor']),axis=1)\n",
    "dist.head()"
   ]
  },
  {
   "cell_type": "code",
   "execution_count": 15,
   "metadata": {
    "collapsed": false
   },
   "outputs": [
    {
     "data": {
      "text/plain": [
       "0    0.000000\n",
       "1    0.000000\n",
       "2    0.166667\n",
       "3    0.200000\n",
       "4    0.000000\n",
       "dtype: float64"
      ]
     },
     "execution_count": 15,
     "metadata": {},
     "output_type": "execute_result"
    }
   ],
   "source": [
    "def levenshtein_normalized(a,b):\n",
    "    l = min(len(a), len(b))\n",
    "    a = a[:l]\n",
    "    b = b[:l]\n",
    "    return distance.levenshtein(a,b)/l\n",
    "\n",
    "dist = triplets.apply(lambda row: levenshtein_normalized(row['Object'], row['ObjectAnchor']),axis=1)\n",
    "dist"
   ]
  },
  {
   "cell_type": "code",
   "execution_count": 19,
   "metadata": {
    "collapsed": false
   },
   "outputs": [
    {
     "data": {
      "text/plain": [
       "<matplotlib.axes._subplots.AxesSubplot at 0xba4581db38>"
      ]
     },
     "execution_count": 19,
     "metadata": {},
     "output_type": "execute_result"
    },
    {
     "data": {
      "image/png": "[encoded data removed]",
      "text/plain": [
       "<matplotlib.figure.Figure at 0xba45838ac8>"
      ]
     },
     "metadata": {},
     "output_type": "display_data"
    }
   ],
   "source": [
    "import matplotlib.pyplot as plt\n",
    "%matplotlib inline\n",
    "dist.hist(bins=20)"
   ]
  },
  {
   "cell_type": "code",
   "execution_count": 20,
   "metadata": {
    "collapsed": false
   },
   "outputs": [
    {
     "data": {
      "text/html": [
       "<div>\n",
       "<table border=\"1\" class=\"dataframe\">\n",
       "  <thead>\n",
       "    <tr style=\"text-align: right;\">\n",
       "      <th></th>\n",
       "      <th>Label</th>\n",
       "      <th>Object</th>\n",
       "      <th>ObjectAnchor</th>\n",
       "      <th>Predicate</th>\n",
       "      <th>PredicateId</th>\n",
       "      <th>Subject</th>\n",
       "      <th>SubjectAnchor</th>\n",
       "      <th>Text</th>\n",
       "      <th>WikipediaLink</th>\n",
       "      <th>WikipediaTitle</th>\n",
       "      <th>ObjDistance</th>\n",
       "    </tr>\n",
       "  </thead>\n",
       "  <tbody>\n",
       "    <tr>\n",
       "      <th>14</th>\n",
       "      <td>0</td>\n",
       "      <td>Сима Чі</td>\n",
       "      <td>Хуай-ді</td>\n",
       "      <td>брат</td>\n",
       "      <td>P7</td>\n",
       "      <td>Сима Чжун</td>\n",
       "      <td>Хуей-ді</td>\n",
       "      <td>На початку правління імператора Хуей-ді, у 290...</td>\n",
       "      <td>https://uk.wikipedia.org/wiki/Пань Ні</td>\n",
       "      <td>Пань Ні</td>\n",
       "      <td>0.857143</td>\n",
       "    </tr>\n",
       "    <tr>\n",
       "      <th>15</th>\n",
       "      <td>0</td>\n",
       "      <td>Сполучені Штати Америки</td>\n",
       "      <td>американський</td>\n",
       "      <td>країна</td>\n",
       "      <td>P17</td>\n",
       "      <td>Коламбіана (Алабама)</td>\n",
       "      <td>Коламбіана</td>\n",
       "      <td>Роберт Джуліан Бентлі (Коламбіана, Алабама) — ...</td>\n",
       "      <td>https://uk.wikipedia.org/wiki/Роберт Бентлі</td>\n",
       "      <td>Роберт Бентлі</td>\n",
       "      <td>0.923077</td>\n",
       "    </tr>\n",
       "    <tr>\n",
       "      <th>18</th>\n",
       "      <td>0</td>\n",
       "      <td>Ешленд (округ, Огайо)</td>\n",
       "      <td>однойменному окрузі</td>\n",
       "      <td>містить адміністративну территоріальну одиницю</td>\n",
       "      <td>P150</td>\n",
       "      <td>Огайо</td>\n",
       "      <td>Огайо</td>\n",
       "      <td>Ешленд — місто в однойменному окрузі, штат Ога...</td>\n",
       "      <td>https://uk.wikipedia.org/wiki/Ешленд (Огайо)</td>\n",
       "      <td>Ешленд (Огайо)</td>\n",
       "      <td>0.947368</td>\n",
       "    </tr>\n",
       "    <tr>\n",
       "      <th>35</th>\n",
       "      <td>0</td>\n",
       "      <td>Віпсанія Юлія</td>\n",
       "      <td>Юлія Молодша</td>\n",
       "      <td>дитина</td>\n",
       "      <td>P40</td>\n",
       "      <td>Марк Віпсаній Агріппа</td>\n",
       "      <td>Агріппи</td>\n",
       "      <td>Юлія Молодша — дочка Агріппи та Юлії Старшій.</td>\n",
       "      <td>https://uk.wikipedia.org/wiki/19 до н. е.</td>\n",
       "      <td>19 до н. е.</td>\n",
       "      <td>1.000000</td>\n",
       "    </tr>\n",
       "    <tr>\n",
       "      <th>36</th>\n",
       "      <td>0</td>\n",
       "      <td>Марк Віпсаній Агріппа</td>\n",
       "      <td>Агріппи</td>\n",
       "      <td>батько</td>\n",
       "      <td>P22</td>\n",
       "      <td>Віпсанія Юлія</td>\n",
       "      <td>Юлія Молодша</td>\n",
       "      <td>Юлія Молодша — дочка Агріппи та Юлії Старшій.</td>\n",
       "      <td>https://uk.wikipedia.org/wiki/19 до н. е.</td>\n",
       "      <td>19 до н. е.</td>\n",
       "      <td>0.857143</td>\n",
       "    </tr>\n",
       "    <tr>\n",
       "      <th>65</th>\n",
       "      <td>0</td>\n",
       "      <td>Скорик Лариса Павлівна</td>\n",
       "      <td>Л.&amp;nbsp;П.&amp;nbsp;Скорик</td>\n",
       "      <td>архітектор</td>\n",
       "      <td>P84</td>\n",
       "      <td>Церква Василія Великого (Київ)</td>\n",
       "      <td>Церква Василія Великого)</td>\n",
       "      <td>| Церква Василія Великого) || 100пкс || Вознес...</td>\n",
       "      <td>https://uk.wikipedia.org/wiki/Храми Києва</td>\n",
       "      <td>Храми Києва</td>\n",
       "      <td>1.000000</td>\n",
       "    </tr>\n",
       "    <tr>\n",
       "      <th>72</th>\n",
       "      <td>0</td>\n",
       "      <td>Зимові Олімпійські ігри 1988</td>\n",
       "      <td>Олімпійські ігри</td>\n",
       "      <td>участник</td>\n",
       "      <td>P1344</td>\n",
       "      <td>Бєлошейкін Євген Володимирович</td>\n",
       "      <td>Євген Бєлошейкін</td>\n",
       "      <td>На кубку Канади 1987 по черзі виступали Сергій...</td>\n",
       "      <td>https://uk.wikipedia.org/wiki/Самойлов Віталій...</td>\n",
       "      <td>Самойлов Віталій Анатолійович</td>\n",
       "      <td>0.875000</td>\n",
       "    </tr>\n",
       "    <tr>\n",
       "      <th>77</th>\n",
       "      <td>0</td>\n",
       "      <td>Префектура Саґа</td>\n",
       "      <td>Саґа</td>\n",
       "      <td>знаходиться в адміністративній территоріальній...</td>\n",
       "      <td>P131</td>\n",
       "      <td>Аріта</td>\n",
       "      <td>Аріта</td>\n",
       "      <td>Аріта — містечко в Японії, в повіті Нісімацуур...</td>\n",
       "      <td>https://uk.wikipedia.org/wiki/Аріта (значення)</td>\n",
       "      <td>Аріта (значення)</td>\n",
       "      <td>1.000000</td>\n",
       "    </tr>\n",
       "    <tr>\n",
       "      <th>93</th>\n",
       "      <td>0</td>\n",
       "      <td>Кітсеп (округ, Вашингтон)</td>\n",
       "      <td>окрузі Кітсеп</td>\n",
       "      <td>містить адміністративну территоріальну одиницю</td>\n",
       "      <td>P150</td>\n",
       "      <td>Вашингтон (штат)</td>\n",
       "      <td>штату Вашингтон</td>\n",
       "      <td>Острів Бейнбрідж — острівне місто в окрузі Кіт...</td>\n",
       "      <td>https://uk.wikipedia.org/wiki/Острів Бейнбрідж</td>\n",
       "      <td>Острів Бейнбрідж</td>\n",
       "      <td>0.923077</td>\n",
       "    </tr>\n",
       "    <tr>\n",
       "      <th>98</th>\n",
       "      <td>0</td>\n",
       "      <td>Віченца (провінція)</td>\n",
       "      <td>провінція Віченца</td>\n",
       "      <td>знаходиться в адміністративній территоріальній...</td>\n",
       "      <td>P131</td>\n",
       "      <td>Луго-ді-Віченца</td>\n",
       "      <td>Луго-ді-Віченца</td>\n",
       "      <td>Вілла Годі — заміська вілла, що знаходиться у ...</td>\n",
       "      <td>https://uk.wikipedia.org/wiki/Вілла Годі</td>\n",
       "      <td>Вілла Годі</td>\n",
       "      <td>0.823529</td>\n",
       "    </tr>\n",
       "  </tbody>\n",
       "</table>\n",
       "</div>"
      ],
      "text/plain": [
       "    Label                        Object            ObjectAnchor  \\\n",
       "14      0                       Сима Чі                 Хуай-ді   \n",
       "15      0       Сполучені Штати Америки           американський   \n",
       "18      0         Ешленд (округ, Огайо)     однойменному окрузі   \n",
       "35      0                 Віпсанія Юлія            Юлія Молодша   \n",
       "36      0         Марк Віпсаній Агріппа                 Агріппи   \n",
       "65      0        Скорик Лариса Павлівна  Л.&nbsp;П.&nbsp;Скорик   \n",
       "72      0  Зимові Олімпійські ігри 1988        Олімпійські ігри   \n",
       "77      0               Префектура Саґа                    Саґа   \n",
       "93      0     Кітсеп (округ, Вашингтон)           окрузі Кітсеп   \n",
       "98      0           Віченца (провінція)       провінція Віченца   \n",
       "\n",
       "                                            Predicate PredicateId  \\\n",
       "14                                               брат          P7   \n",
       "15                                             країна         P17   \n",
       "18     містить адміністративну территоріальну одиницю        P150   \n",
       "35                                             дитина         P40   \n",
       "36                                             батько         P22   \n",
       "65                                         архітектор         P84   \n",
       "72                                           участник       P1344   \n",
       "77  знаходиться в адміністративній территоріальній...        P131   \n",
       "93     містить адміністративну территоріальну одиницю        P150   \n",
       "98  знаходиться в адміністративній территоріальній...        P131   \n",
       "\n",
       "                           Subject             SubjectAnchor  \\\n",
       "14                       Сима Чжун                   Хуей-ді   \n",
       "15            Коламбіана (Алабама)                Коламбіана   \n",
       "18                           Огайо                     Огайо   \n",
       "35           Марк Віпсаній Агріппа                   Агріппи   \n",
       "36                   Віпсанія Юлія              Юлія Молодша   \n",
       "65  Церква Василія Великого (Київ)  Церква Василія Великого)   \n",
       "72  Бєлошейкін Євген Володимирович          Євген Бєлошейкін   \n",
       "77                           Аріта                     Аріта   \n",
       "93                Вашингтон (штат)           штату Вашингтон   \n",
       "98                 Луго-ді-Віченца           Луго-ді-Віченца   \n",
       "\n",
       "                                                 Text  \\\n",
       "14  На початку правління імператора Хуей-ді, у 290...   \n",
       "15  Роберт Джуліан Бентлі (Коламбіана, Алабама) — ...   \n",
       "18  Ешленд — місто в однойменному окрузі, штат Ога...   \n",
       "35      Юлія Молодша — дочка Агріппи та Юлії Старшій.   \n",
       "36      Юлія Молодша — дочка Агріппи та Юлії Старшій.   \n",
       "65  | Церква Василія Великого) || 100пкс || Вознес...   \n",
       "72  На кубку Канади 1987 по черзі виступали Сергій...   \n",
       "77  Аріта — містечко в Японії, в повіті Нісімацуур...   \n",
       "93  Острів Бейнбрідж — острівне місто в окрузі Кіт...   \n",
       "98  Вілла Годі — заміська вілла, що знаходиться у ...   \n",
       "\n",
       "                                        WikipediaLink  \\\n",
       "14              https://uk.wikipedia.org/wiki/Пань Ні   \n",
       "15        https://uk.wikipedia.org/wiki/Роберт Бентлі   \n",
       "18       https://uk.wikipedia.org/wiki/Ешленд (Огайо)   \n",
       "35          https://uk.wikipedia.org/wiki/19 до н. е.   \n",
       "36          https://uk.wikipedia.org/wiki/19 до н. е.   \n",
       "65          https://uk.wikipedia.org/wiki/Храми Києва   \n",
       "72  https://uk.wikipedia.org/wiki/Самойлов Віталій...   \n",
       "77     https://uk.wikipedia.org/wiki/Аріта (значення)   \n",
       "93     https://uk.wikipedia.org/wiki/Острів Бейнбрідж   \n",
       "98           https://uk.wikipedia.org/wiki/Вілла Годі   \n",
       "\n",
       "                   WikipediaTitle  ObjDistance  \n",
       "14                        Пань Ні     0.857143  \n",
       "15                  Роберт Бентлі     0.923077  \n",
       "18                 Ешленд (Огайо)     0.947368  \n",
       "35                    19 до н. е.     1.000000  \n",
       "36                    19 до н. е.     0.857143  \n",
       "65                    Храми Києва     1.000000  \n",
       "72  Самойлов Віталій Анатолійович     0.875000  \n",
       "77               Аріта (значення)     1.000000  \n",
       "93               Острів Бейнбрідж     0.923077  \n",
       "98                     Вілла Годі     0.823529  "
      ]
     },
     "execution_count": 20,
     "metadata": {},
     "output_type": "execute_result"
    }
   ],
   "source": [
    "triplets['ObjDistance'] = dist\n",
    "t = triplets\n",
    "t[t.ObjDistance > 0.8].head(10)"
   ]
  },
  {
   "cell_type": "code",
   "execution_count": null,
   "metadata": {
    "collapsed": true
   },
   "outputs": [],
   "source": []
  }
 ],
 "metadata": {
  "kernelspec": {
   "display_name": "Python [py35]",
   "language": "python",
   "name": "Python [py35]"
  },
  "language_info": {
   "codemirror_mode": {
    "name": "ipython",
    "version": 3
   },
   "file_extension": ".py",
   "mimetype": "text/x-python",
   "name": "python",
   "nbconvert_exporter": "python",
   "pygments_lexer": "ipython3",
   "version": "3.5.2"
  }
 },
 "nbformat": 4,
 "nbformat_minor": 0
}
